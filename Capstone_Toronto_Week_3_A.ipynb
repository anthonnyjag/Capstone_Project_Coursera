{
 "cells": [
  {
   "cell_type": "code",
   "execution_count": 189,
   "metadata": {},
   "outputs": [],
   "source": [
    "#Import the necessary libraries for the deployment\n",
    "import requests\n",
    "from bs4 import BeautifulSoup\n",
    "import pandas as pd\n",
    "import pandas as pd # library for data analsysis\n",
    "pd.set_option('display.max_columns', None)\n",
    "pd.set_option('display.max_rows', None)\n",
    "\n",
    "#Set the location of the data and its saving process into the code.\n",
    "page = \"https://en.wikipedia.org/wiki/List_of_postal_codes_of_Canada:_M\"\n",
    "wikipedia_url = requests.get(page).text\n",
    "soup = BeautifulSoup(wikipedia_url,'lxml')\n",
    "\n",
    "#Define the table to work with.\n",
    "my_table = soup.find('table',{'class':'wikitable sortable'})"
   ]
  },
  {
   "cell_type": "code",
   "execution_count": 190,
   "metadata": {},
   "outputs": [],
   "source": [
    "#Take the data from the format supported by Soup\n",
    "A = []\n",
    "B = []\n",
    "C = []\n",
    "for i in my_table.findAll('tr')[1:]:\n",
    "    links = i.findAll('td')\n",
    "    A.append(links[0].find(text=True))\n",
    "    B.append(links[1].find(text=True))\n",
    "    C.append(links[2].find(text=True).rstrip()) #This clean the \\n characters"
   ]
  },
  {
   "cell_type": "code",
   "execution_count": 191,
   "metadata": {},
   "outputs": [],
   "source": [
    "#Join the data into a DataFrame to further processing\n",
    "df = pd.DataFrame(A,columns=['PostalCode'])\n",
    "df['Borough'] = B\n",
    "df['Neighborhood'] = C"
   ]
  },
  {
   "cell_type": "code",
   "execution_count": 192,
   "metadata": {},
   "outputs": [],
   "source": [
    "#Delete the Not assigned rows in the df.\n",
    "df = df.drop(df[df.Borough == 'Not assigned'].index)"
   ]
  },
  {
   "cell_type": "code",
   "execution_count": 193,
   "metadata": {},
   "outputs": [],
   "source": [
    "#Join the elements by the repeated PostalCode values, and reset the index to further analysis.\n",
    "df = df.groupby(['PostalCode','Borough'],sort=False).agg( ', '.join)\n",
    "df = df.reset_index()"
   ]
  },
  {
   "cell_type": "code",
   "execution_count": 194,
   "metadata": {},
   "outputs": [],
   "source": [
    "#Copy Borough to the Neighborhoods that have Not assigned after all the process.\n",
    "df.Neighborhood[df[df.Neighborhood == 'Not assigned'].index] = df.Borough[df[df.Neighborhood == 'Not assigned'].index]"
   ]
  },
  {
   "cell_type": "code",
   "execution_count": 195,
   "metadata": {},
   "outputs": [
    {
     "data": {
      "text/plain": [
       "(103, 3)"
      ]
     },
     "execution_count": 195,
     "metadata": {},
     "output_type": "execute_result"
    }
   ],
   "source": [
    "#Print the final shape of the df.\n",
    "df.shape"
   ]
  }
 ],
 "metadata": {
  "kernelspec": {
   "display_name": "Python 3",
   "language": "python",
   "name": "python3"
  },
  "language_info": {
   "codemirror_mode": {
    "name": "ipython",
    "version": 3
   },
   "file_extension": ".py",
   "mimetype": "text/x-python",
   "name": "python",
   "nbconvert_exporter": "python",
   "pygments_lexer": "ipython3",
   "version": "3.6.8"
  }
 },
 "nbformat": 4,
 "nbformat_minor": 2
}
